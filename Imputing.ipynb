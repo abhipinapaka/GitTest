{
 "cells": [
  {
   "cell_type": "code",
   "execution_count": 11,
   "metadata": {
    "collapsed": true
   },
   "outputs": [],
   "source": [
    "import pandas as pd\n",
    "df = pd.DataFrame({\"Gender\": ['f',\"f\",'m','f','m','m','f','f'],\n",
    "                   \"Age\":[28,12,23, None,56,67,67,54],\n",
    "                   \"score\": [21,22,34,None, 56,65,None,90]\n",
    "                  })\n",
    "#df.to_csv(\"E:\\\\MASTERS\\\\3 Fall 17\\\\DSc 5378\\\\Test_2\\\\gender_scores.csv\")"
   ]
  },
  {
   "cell_type": "code",
   "execution_count": 4,
   "metadata": {},
   "outputs": [
    {
     "name": "stdout",
     "output_type": "stream",
     "text": [
      "    Age  Gender  score\n",
      "0  28.0       1   21.0\n",
      "1  12.0       1   22.0\n",
      "2  23.0       0   34.0\n",
      "3   NaN       1    NaN\n",
      "4  56.0       0   56.0\n"
     ]
    },
    {
     "data": {
      "text/plain": [
       "array([[28.        ,  1.        , 21.        ],\n",
       "       [12.        ,  1.        , 22.        ],\n",
       "       [23.        ,  0.        , 34.        ],\n",
       "       [43.85714286,  1.        , 48.        ],\n",
       "       [56.        ,  0.        , 56.        ],\n",
       "       [67.        ,  0.        , 65.        ],\n",
       "       [67.        ,  1.        , 48.        ],\n",
       "       [54.        ,  1.        , 90.        ]])"
      ]
     },
     "execution_count": 4,
     "metadata": {},
     "output_type": "execute_result"
    }
   ],
   "source": [
    "#Imputer class\n",
    "#converring M = 0 and f=1\n",
    "from sklearn.preprocessing import Imputer\n",
    "df.Gender = df.Gender.map({\"f\":1,\"m\":0})\n",
    "print(df.head())\n",
    "i = Imputer(strategy = \"mean\", axis = 0)\n",
    "df= i.fit_transform(df)\n",
    "df"
   ]
  },
  {
   "cell_type": "code",
   "execution_count": 5,
   "metadata": {},
   "outputs": [
    {
     "data": {
      "text/html": [
       "<div>\n",
       "<style scoped>\n",
       "    .dataframe tbody tr th:only-of-type {\n",
       "        vertical-align: middle;\n",
       "    }\n",
       "\n",
       "    .dataframe tbody tr th {\n",
       "        vertical-align: top;\n",
       "    }\n",
       "\n",
       "    .dataframe thead th {\n",
       "        text-align: right;\n",
       "    }\n",
       "</style>\n",
       "<table border=\"1\" class=\"dataframe\">\n",
       "  <thead>\n",
       "    <tr style=\"text-align: right;\">\n",
       "      <th></th>\n",
       "      <th>Age</th>\n",
       "      <th>Gender</th>\n",
       "      <th>score</th>\n",
       "    </tr>\n",
       "  </thead>\n",
       "  <tbody>\n",
       "    <tr>\n",
       "      <th>0</th>\n",
       "      <td>28.0</td>\n",
       "      <td>1</td>\n",
       "      <td>21.0</td>\n",
       "    </tr>\n",
       "    <tr>\n",
       "      <th>1</th>\n",
       "      <td>12.0</td>\n",
       "      <td>1</td>\n",
       "      <td>22.0</td>\n",
       "    </tr>\n",
       "    <tr>\n",
       "      <th>2</th>\n",
       "      <td>23.0</td>\n",
       "      <td>0</td>\n",
       "      <td>34.0</td>\n",
       "    </tr>\n",
       "    <tr>\n",
       "      <th>3</th>\n",
       "      <td>NaN</td>\n",
       "      <td>1</td>\n",
       "      <td>NaN</td>\n",
       "    </tr>\n",
       "    <tr>\n",
       "      <th>4</th>\n",
       "      <td>56.0</td>\n",
       "      <td>0</td>\n",
       "      <td>56.0</td>\n",
       "    </tr>\n",
       "    <tr>\n",
       "      <th>5</th>\n",
       "      <td>67.0</td>\n",
       "      <td>0</td>\n",
       "      <td>65.0</td>\n",
       "    </tr>\n",
       "    <tr>\n",
       "      <th>6</th>\n",
       "      <td>67.0</td>\n",
       "      <td>1</td>\n",
       "      <td>NaN</td>\n",
       "    </tr>\n",
       "    <tr>\n",
       "      <th>7</th>\n",
       "      <td>54.0</td>\n",
       "      <td>1</td>\n",
       "      <td>90.0</td>\n",
       "    </tr>\n",
       "  </tbody>\n",
       "</table>\n",
       "</div>"
      ],
      "text/plain": [
       "    Age  Gender  score\n",
       "0  28.0       1   21.0\n",
       "1  12.0       1   22.0\n",
       "2  23.0       0   34.0\n",
       "3   NaN       1    NaN\n",
       "4  56.0       0   56.0\n",
       "5  67.0       0   65.0\n",
       "6  67.0       1    NaN\n",
       "7  54.0       1   90.0"
      ]
     },
     "execution_count": 5,
     "metadata": {},
     "output_type": "execute_result"
    }
   ],
   "source": [
    "df1 = pd.DataFrame({\"Gender\": ['f',\"f\",'m','f','m','m','f','f'],\n",
    "                   \"Age\":[28,12,23, None,56,67,67,54],\n",
    "                   \"score\": [21,22,34,None, 56,65,None,90]\n",
    "                  })\n",
    "df1.Gender = df1.Gender.map({\"f\":1,\"m\":0})\n",
    "df1"
   ]
  },
  {
   "cell_type": "code",
   "execution_count": 6,
   "metadata": {},
   "outputs": [
    {
     "data": {
      "text/plain": [
       "array([[28.        ,  1.        , 21.        ],\n",
       "       [12.        ,  1.        , 22.        ],\n",
       "       [23.        ,  0.        , 34.        ],\n",
       "       [43.85714286,  1.        , 48.        ],\n",
       "       [56.        ,  0.        , 56.        ],\n",
       "       [67.        ,  0.        , 65.        ],\n",
       "       [67.        ,  1.        , 48.        ],\n",
       "       [54.        ,  1.        , 90.        ]])"
      ]
     },
     "execution_count": 6,
     "metadata": {},
     "output_type": "execute_result"
    }
   ],
   "source": [
    "i_mean = Imputer(strategy = \"mean\", axis = 0)\n",
    "dfmean= i_mean.fit_transform(df1)\n",
    "dfmean"
   ]
  },
  {
   "cell_type": "code",
   "execution_count": 8,
   "metadata": {},
   "outputs": [
    {
     "data": {
      "text/plain": [
       "array([[28.,  1., 21.],\n",
       "       [12.,  1., 22.],\n",
       "       [23.,  0., 34.],\n",
       "       [67.,  1., 21.],\n",
       "       [56.,  0., 56.],\n",
       "       [67.,  0., 65.],\n",
       "       [67.,  1., 21.],\n",
       "       [54.,  1., 90.]])"
      ]
     },
     "execution_count": 8,
     "metadata": {},
     "output_type": "execute_result"
    }
   ],
   "source": [
    "i_most_frequent = Imputer(strategy = \"most_frequent\", axis  = 0)\n",
    "df_most_frequent = i_most_frequent.fit_transform(df1)\n",
    "df_most_frequent"
   ]
  },
  {
   "cell_type": "code",
   "execution_count": 9,
   "metadata": {},
   "outputs": [
    {
     "data": {
      "text/plain": [
       "array([[28.,  1., 21.],\n",
       "       [12.,  1., 22.],\n",
       "       [23.,  0., 34.],\n",
       "       [54.,  1., 45.],\n",
       "       [56.,  0., 56.],\n",
       "       [67.,  0., 65.],\n",
       "       [67.,  1., 45.],\n",
       "       [54.,  1., 90.]])"
      ]
     },
     "execution_count": 9,
     "metadata": {},
     "output_type": "execute_result"
    }
   ],
   "source": [
    "imedian = Imputer(strategy = \"median\", axis = 0)\n",
    "dfmedian = imedian.fit_transform(df1)\n",
    "dfmedian"
   ]
  },
  {
   "cell_type": "code",
   "execution_count": 12,
   "metadata": {},
   "outputs": [
    {
     "name": "stdout",
     "output_type": "stream",
     "text": [
      "    Age Gender  score\n",
      "0  28.0      f   21.0\n",
      "1  12.0      f   22.0\n",
      "2  23.0      m   34.0\n",
      "3  54.0      f   48.0\n",
      "4  56.0      m   56.0\n",
      "5  67.0      m   65.0\n",
      "6  67.0      f   48.0\n",
      "7  54.0      f   90.0\n"
     ]
    },
    {
     "data": {
      "text/plain": [
       "0    21.0\n",
       "1    22.0\n",
       "2    34.0\n",
       "3    48.0\n",
       "4    56.0\n",
       "5    65.0\n",
       "6    48.0\n",
       "7    90.0\n",
       "Name: score, dtype: float64"
      ]
     },
     "execution_count": 12,
     "metadata": {},
     "output_type": "execute_result"
    }
   ],
   "source": [
    "mean_score = int(df.score.dropna().mean())\n",
    "df.score = df.score.fillna(mean_score)\n",
    "median_age = df.Age.dropna().median()\n",
    "df.Age = df.Age.fillna(median_age)\n",
    "print(df)\n",
    "df[\"score\"]\n",
    "df.score"
   ]
  }
 ],
 "metadata": {
  "kernelspec": {
   "display_name": "Python 3",
   "language": "python",
   "name": "python3"
  },
  "language_info": {
   "codemirror_mode": {
    "name": "ipython",
    "version": 3
   },
   "file_extension": ".py",
   "mimetype": "text/x-python",
   "name": "python",
   "nbconvert_exporter": "python",
   "pygments_lexer": "ipython3",
   "version": "3.6.1"
  }
 },
 "nbformat": 4,
 "nbformat_minor": 2
}
