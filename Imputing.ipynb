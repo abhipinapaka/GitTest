{
 "cells": [
  {
   "cell_type": "code",
   "execution_count": 34,
   "metadata": {
    "collapsed": true
   },
   "outputs": [],
   "source": [
    "import pandas as pd\n",
    "df = pd.DataFrame({\"Gender\": ['f',\"f\",'m','f','m','m','f','f'],\n",
    "                   \"Age\":[28,12,23, None,56,67,67,54],\n",
    "                   \"score\": [21,22,34,None, 56,65,None,90]\n",
    "                  })\n",
    "df.to_csv(\"E:\\\\MASTERS\\\\3 Fall 17\\\\DSc 5378\\\\Test_2\\\\gender_scores.csv\")"
   ]
  },
  {
   "cell_type": "code",
   "execution_count": 36,
   "metadata": {},
   "outputs": [
    {
     "data": {
      "text/plain": [
       "0    21.0\n",
       "1    22.0\n",
       "2    34.0\n",
       "3    48.0\n",
       "4    56.0\n",
       "5    65.0\n",
       "6    48.0\n",
       "7    90.0\n",
       "Name: score, dtype: float64"
      ]
     },
     "execution_count": 36,
     "metadata": {},
     "output_type": "execute_result"
    }
   ],
   "source": [
    "mean_score = int(df.score.dropna().mean())\n",
    "df.score = df.score.fillna(mean_score)\n",
    "median_age = df.Age.dropna().median()\n",
    "df.Age = df.Age.fillna(median_age)\n",
    "df\n",
    "df[\"score\"]\n",
    "df.score"
   ]
  },
  {
   "cell_type": "code",
   "execution_count": 21,
   "metadata": {},
   "outputs": [
    {
     "data": {
      "text/plain": [
       "array([[ 28.,  21.],\n",
       "       [ 12.,  22.],\n",
       "       [ 23.,  34.],\n",
       "       [ 54.,  48.],\n",
       "       [ 56.,  56.],\n",
       "       [ 67.,  65.],\n",
       "       [ 67.,  48.],\n",
       "       [ 54.,  90.]])"
      ]
     },
     "execution_count": 21,
     "metadata": {},
     "output_type": "execute_result"
    }
   ],
   "source": [
    "#Imputer class\n",
    "#converring M = 0 and f=1\n",
    "from sklearn.preprocessing import Imputer\n",
    "df.Gender = df.Gender.map({\"f\":1,\"m\":0})\n",
    "i = Imputer(strategy = \"mean\", axis = 0)\n",
    "df= i.fit_transform(df)\n",
    "df"
   ]
  },
  {
   "cell_type": "code",
   "execution_count": 5,
   "metadata": {},
   "outputs": [
    {
     "data": {
      "text/plain": [
       "pandas.core.series.Series"
      ]
     },
     "execution_count": 5,
     "metadata": {},
     "output_type": "execute_result"
    }
   ],
   "source": [
    "import pandas as pd\n",
    "df1 = pd.read_csv(\"E:\\\\MASTERS\\\\3 Fall 17\\\\DSc 5378\\\\Test_2\\\\gender_scores.csv\")\n",
    "type(df1.Gender)"
   ]
  },
  {
   "cell_type": "code",
   "execution_count": null,
   "metadata": {
    "collapsed": true
   },
   "outputs": [],
   "source": [
    "df1.Gender = df1.Gender.map({\"f\":1,\"m\":0})\n",
    "df1"
   ]
  },
  {
   "cell_type": "code",
   "execution_count": 29,
   "metadata": {},
   "outputs": [
    {
     "data": {
      "text/plain": [
       "array([[  0.        ,  28.        ,   1.        ,  21.        ],\n",
       "       [  1.        ,  12.        ,   1.        ,  22.        ],\n",
       "       [  2.        ,  23.        ,   0.        ,  34.        ],\n",
       "       [  3.        ,  43.85714286,   1.        ,  48.        ],\n",
       "       [  4.        ,  56.        ,   0.        ,  56.        ],\n",
       "       [  5.        ,  67.        ,   0.        ,  65.        ],\n",
       "       [  6.        ,  67.        ,   1.        ,  48.        ],\n",
       "       [  7.        ,  54.        ,   1.        ,  90.        ]])"
      ]
     },
     "execution_count": 29,
     "metadata": {},
     "output_type": "execute_result"
    }
   ],
   "source": [
    "i_mean = Imputer(strategy = \"mean\", axis = 0)\n",
    "dfmean= i_mean.fit_transform(df1)\n",
    "dfmean"
   ]
  },
  {
   "cell_type": "code",
   "execution_count": 32,
   "metadata": {},
   "outputs": [
    {
     "data": {
      "text/plain": [
       "array([[  0.,  28.,   1.,  21.],\n",
       "       [  1.,  12.,   1.,  22.],\n",
       "       [  2.,  23.,   0.,  34.],\n",
       "       [  3.,  54.,   1.,  45.],\n",
       "       [  4.,  56.,   0.,  56.],\n",
       "       [  5.,  67.,   0.,  65.],\n",
       "       [  6.,  67.,   1.,  45.],\n",
       "       [  7.,  54.,   1.,  90.]])"
      ]
     },
     "execution_count": 32,
     "metadata": {},
     "output_type": "execute_result"
    }
   ],
   "source": [
    "imedian = Imputer(strategy = \"median\", axis = 0)\n",
    "dfmedian = imedian.fit_transform(df1)\n",
    "dfmedian"
   ]
  }
 ],
 "metadata": {
  "kernelspec": {
   "display_name": "Python 3",
   "language": "python",
   "name": "python3"
  },
  "language_info": {
   "codemirror_mode": {
    "name": "ipython",
    "version": 3
   },
   "file_extension": ".py",
   "mimetype": "text/x-python",
   "name": "python",
   "nbconvert_exporter": "python",
   "pygments_lexer": "ipython3",
   "version": "3.6.1"
  }
 },
 "nbformat": 4,
 "nbformat_minor": 2
}
